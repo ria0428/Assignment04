{
 "cells": [
  {
   "cell_type": "markdown",
   "id": "3784818a-9831-42be-8e69-3c8de6c74cdc",
   "metadata": {},
   "source": [
    "# [Assignment 04]"
   ]
  },
  {
   "cell_type": "markdown",
   "id": "15d6ec9a-7220-437b-b43a-19f65554a10a",
   "metadata": {},
   "source": [
    "# 1. LeetCode 225번"
   ]
  },
  {
   "cell_type": "code",
   "execution_count": 5,
   "id": "a2b07fda-f768-41c5-a93a-e2973e4144fd",
   "metadata": {},
   "outputs": [],
   "source": [
    "from collections import deque\n",
    "class MyStack:\n",
    "\n",
    "    def __init__(self):\n",
    "        self.q1=deque()\n",
    "        self.q2=deque()\n",
    "        \n",
    "    def push(self, x: int) -> None:\n",
    "        self.q1.append(X)\n",
    "        \n",
    "\n",
    "    def pop(self) -> int:\n",
    "        while len(self.q1)>1:\n",
    "            self.q2.append(self.q1.popleft())\n",
    "        val=self.q1.popleft()\n",
    "        self.q1,self.q2=self.q2,self.q1\n",
    "        return val\n",
    "\n",
    "    def top(self) -> int:\n",
    "        while len(self.q1)>1:\n",
    "            self.q2.append(self.q1.popleft())\n",
    "        val=self.q1[0]\n",
    "        self.q2.append(self.q1.popleft())\n",
    "        self.q1,self.q2=self.q2,self.q1\n",
    "        return val\n",
    "\n",
    "    def empty(self) -> bool:\n",
    "        return not self.q1\n",
    "\n"
   ]
  },
  {
   "cell_type": "markdown",
   "id": "ec2c362d-0838-4b8e-90b0-15e79d86591a",
   "metadata": {},
   "source": [
    "# 2. LeetCode 232번"
   ]
  },
  {
   "cell_type": "code",
   "execution_count": null,
   "id": "94dfe89e-9b9f-417d-b0c1-328ff59964d2",
   "metadata": {},
   "outputs": [],
   "source": [
    "class MyQueue:\n",
    "\n",
    "    def __init__(self):\n",
    "        self.in_stack=[]\n",
    "        self.out_stack=[]\n",
    "\n",
    "    def push(self, x: int) -> None:\n",
    "        self.in_stack.append(x)\n",
    "\n",
    "    def pop(self) -> int:\n",
    "        self.peek()\n",
    "        return self.out_stack.pop()\n",
    "\n",
    "    def peek(self) -> int:\n",
    "        if not self.out_stack:\n",
    "            while self.in_stack:\n",
    "                self.out-stakc.append(self.in_stack.pop())\n",
    "        return self.out_stack[-1]\n",
    "        \n",
    "\n",
    "    def empty(self) -> bool:\n",
    "        return not self.in_stack and not self.out_stack\n",
    "    \n"
   ]
  },
  {
   "cell_type": "markdown",
   "id": "c7b17fff-8c8f-4ab7-b1ec-757b5bd3005b",
   "metadata": {},
   "source": [
    "# 3. 교재의 큐 연습문제 전부"
   ]
  },
  {
   "cell_type": "markdown",
   "id": "ad860a18-3ecf-4e4c-8ae7-862a0cf90d5c",
   "metadata": {},
   "source": [
    "## 연습문제 1번"
   ]
  },
  {
   "cell_type": "code",
   "execution_count": 9,
   "id": "41d5118f-4445-4f81-be51-3fce5bfb86fc",
   "metadata": {},
   "outputs": [],
   "source": [
    "class ListQueue:\n",
    "    def __init__(self):\n",
    "        self.__queue=[]\n",
    "\n",
    "    \n",
    "    #새로운 리스트함수 추가\n",
    "        \n",
    "    def reverseQueue(self):  \n",
    "        #새 리스트 추가\n",
    "        reverseq=[]\n",
    "        \n",
    "        for i in range(len(self.__queue)):\n",
    "            reverseq.append(self.__queue[len(self.__queue)-1-i])\n",
    "        self.__queue=reverseq\n",
    "\n",
    "    def enqueue(self,x):\n",
    "        self.__queue.append(x)\n",
    "    def dequeue(x):\n",
    "        return self.__queue.pop(0)\n",
    "    def front(self):\n",
    "        return self.__queue[0]\n",
    "    def isEmpty(self):\n",
    "        return len(self.__queue)==0\n",
    "    def dequeueAll(self):\n",
    "        self.__queue.clear()\n",
    "\n"
   ]
  },
  {
   "cell_type": "markdown",
   "id": "a3a526dd-b1fd-47b1-8033-a75f596a13e2",
   "metadata": {},
   "source": [
    "## 연습문제 2번"
   ]
  },
  {
   "cell_type": "code",
   "execution_count": null,
   "id": "82fa4b0e-784c-4943-9560-8187003ea289",
   "metadata": {},
   "outputs": [],
   "source": [
    "from DS.queue.listQueue import *\n",
    "\n",
    "def isElement(A) -> bool:     #문자열 A가 집합의 원소면 True 반환\n",
    "\n",
    "    q=ListQueue()           #큐 객체를 만들어 초기세팅 q는 비어있음*\n",
    "\n",
    "    if A[len(A)//2]==\"$\":        #파이썬에서 /는 소수잠빈횐 니눗셈  //는 정수 반환 나눗셈(몫)\n",
    "        #좌우동형인지 봐보기\n",
    "        for i in range(len(A)//2):\n",
    "            q.enqueue(A[i])\n",
    "\n",
    "        for i in range(len(A)//2):\n",
    "            if q.dequeue() != A[len-i]:      #deque는 함수이므로 뒤에 () 수수\n",
    "                return False\n",
    "                \n",
    "        return True     #모두 일치해야 True이므로 else문이 아닌 바깥으로 이렇게 빼야함\n",
    "\n",
    "\n",
    "    else:\n",
    "        return False      \n",
    "        \n",
    "\n",
    "def main():\n",
    "    str='abc$cba'\n",
    "    print(str,isElement(str))\n",
    "\n",
    "\n",
    "if __name__==\"__main__\":\n",
    "    main()\n",
    "\n",
    "\n",
    "    "
   ]
  },
  {
   "cell_type": "markdown",
   "id": "348bb460-c991-4dfc-ac42-330c7e146fcf",
   "metadata": {},
   "source": [
    "## 연습문제 3번"
   ]
  },
  {
   "cell_type": "code",
   "execution_count": null,
   "id": "3b80cf00-742a-46df-b3b0-2fed454cb4f3",
   "metadata": {},
   "outputs": [],
   "source": [
    "class LinkedQueue1:\n",
    "   \n",
    "    def __init__(self):\n",
    "        self.queue1=[1,3,'a',90,'aba#']\n",
    "\n",
    "\n",
    "class LinkedQueue2:\n",
    "    def __init__(self):\n",
    "        self.queue2=[]\n",
    "\n",
    "\n",
    "\n",
    "def main():\n",
    "    #클래스 인스턴스 생성 -> 클래스 내부 값을 외부에서도 자유롭게 사용\n",
    "    #클래스 내부에 self.queue1을 생성자없이 쓰려면 main함수에서 인스턴스를 생성해야함\n",
    "    \n",
    "    q1=LinkedQueue1()\n",
    "    q2=LinkedQueue2()\n",
    "\n",
    "    for i in range(len(q1.queue1)):\n",
    "         q2.queue2.append(q1.queue1[i])\n",
    "\n",
    "    print(\"새로 복사된 객체 b: \",q2.queue2)\n",
    "\n",
    "if __name__==\"__main__\":\n",
    "    main()\n",
    "\n",
    "\n",
    "            \n",
    "\n"
   ]
  },
  {
   "cell_type": "markdown",
   "id": "5f685d09-b716-443d-aaa0-e244d239de0e",
   "metadata": {},
   "source": [
    "## 연습문제 4번"
   ]
  },
  {
   "cell_type": "code",
   "execution_count": null,
   "id": "ea3e5d6d-da78-4b33-aa46-11cd124267b4",
   "metadata": {},
   "outputs": [],
   "source": [
    "class LinkedQueue1:\n",
    "    def __init__(self):\n",
    "        self.queue1=[]\n",
    "\n",
    "\n",
    "class LinkedQueue2:\n",
    "    def __init__(self,q1):\n",
    "        self.queue2=[]\n",
    "        for i in range(len(q1.queue1)):       #q1의 등장, 오류 가능성 있으므로 인자 전달**\n",
    "            self.queue2.append(q1.queue1[len(q1.queue1)-1-i])\n",
    "        #q2에 q1을 복사, 인덱스만 거꾸로\n",
    "\n",
    "    def push(self,x):\n",
    "        self.__queue2.insert(0,x)       #0번째 자리에 x를 삽입\n",
    "\n",
    "    def pop(self):\n",
    "        return self.__queue2.pop(0)\n",
    "\n",
    "\n",
    "def main():\n",
    "    #클래스 인스턴스 생성\n",
    "    q1=LinkedQueue1()\n",
    "    #예시값 넣기\n",
    "    q1.queue1=[1,2,3,4]\n",
    "    \n",
    "    q2=LinkedQueue2(q1)     #LinkedQueue2는 q1의 내용을 알고 있으므로 내부에서 사용가능\n",
    "\n",
    "\n",
    "\n",
    "if __name__==\"__main__\":\n",
    "    main()"
   ]
  },
  {
   "cell_type": "markdown",
   "id": "f6e9ad58-52c9-4843-badf-c58466ff3f2f",
   "metadata": {},
   "source": [
    "## 연습문제 5번"
   ]
  },
  {
   "cell_type": "code",
   "execution_count": null,
   "id": "47984e8f-422c-4280-9b7e-7cc40d987188",
   "metadata": {},
   "outputs": [],
   "source": [
    "class LinkedStack1:\n",
    "    def __init__(self):        #생성자\n",
    "        self.__stack1=[]\n",
    "\n",
    "class Linkedstack2:\n",
    "    def __init__(self,s1):\n",
    "        self.__stack2=[]\n",
    "        #s1에 저장된 스택값을 reverse해서 삽입\n",
    "\n",
    "        for i in range(len(s1.stack1)):\n",
    "            self.__stack2.append(s1.stack1(len(s1.stack1)-1-i))  #원소를 append*\n",
    "\n",
    "    def enqueue(self,x):\n",
    "        self.__stack2.insert(len(s1.stack1),x)\n",
    "\n",
    "    def dequeue(self):\n",
    "        return self.__stack2.pop(0)\n",
    "\n",
    "def main():\n",
    "    #클래스 인스턴스 생성\n",
    "    s1=LinkedStack1()\n",
    "\n",
    "    #stack에 예시 값 넣기\n",
    "    s1=[1,2,3,4]\n",
    "    \n",
    "    s2=LinkedStack2(s1)   #s1을 s2의 내부에서 사용가능하도록*\n",
    "\n",
    "\n",
    "if __name__==\"__main__\":\n",
    "    main()\n",
    "\n",
    "    "
   ]
  },
  {
   "cell_type": "markdown",
   "id": "1cc1ca56-6111-47a7-8cdb-8f20a60b8246",
   "metadata": {},
   "source": [
    "## 연습문제 6번\n",
    "원형연결리스트에서 enqueue()를 front와 tail에서 수행하는 경우 모두 시간복잡도는 1이다. dequeue() 또한 front와 tail에 관계없이 모두 1이다. 그러므로 시간복잡도는 모두 세타(1)이다."
   ]
  },
  {
   "cell_type": "markdown",
   "id": "fedd00ac-65b3-4971-9eb1-fba2ef353818",
   "metadata": {},
   "source": [
    "## 연습문제 7번\n",
    "위와 같은 원형연결리스트가 아닌, 단순연결리스트와 같은 경우에는 시간복잡도가 다르게 나올 수 있다. 먼저 enqueue()가 front에서 수행되면 맨 앞의 포인터만 바꾸어 주면되므로 O(1),  tail에서 수행되면 포인터가 없는 경우 모든 노드를 방문해야하므로 O(n)이다. 다음으로 dequeue()가 front에서 수행되면 O(1)이다. tail에서 수행될 경우 뒤에 있는 노드를 삭제할 경우 앞에서부터 따라서 가야하므로 O(n)이다. 따라서 두 경우 모두 최악의 경우를 고려하면 O(n)이다."
   ]
  },
  {
   "cell_type": "markdown",
   "id": "ffd76ff3-144f-450a-a771-45c24a9e0c2d",
   "metadata": {},
   "source": [
    "## 연습문제 8번"
   ]
  },
  {
   "cell_type": "code",
   "execution_count": null,
   "id": "0ecd3421-4deb-4703-a66d-d40ee1a2a9c9",
   "metadata": {},
   "outputs": [],
   "source": [
    "class ListQueue:\n",
    "    def __init__(self):\n",
    "        self.__queue=[]\n",
    "\n",
    "    def enqueueFront(self,x):\n",
    "        self.__queue.insert(0,x)\n",
    "\n",
    "    def enqueueTail(self,x):\n",
    "        self.__queue.append(x)\n",
    "\n",
    "    def dequeueFront(self):\n",
    "        return self.__queue.pop(0)\n",
    "\n",
    "    def dequeueTail(self):\n",
    "        return self.__queue.pop(len(self.__queue)-1)\n",
    "\n",
    "    def front(self):\n",
    "        if self.__queue.isEmpty():\n",
    "            return None\n",
    "        else:\n",
    "            return self.__queue[0]\n",
    "\n",
    "    def isEmpty(self)-> bool:\n",
    "        return (len(self.__queue)==0)\n",
    "\n",
    "    def dequeueAll(self):\n",
    "        self.__queue.clear()\n"
   ]
  },
  {
   "cell_type": "markdown",
   "id": "c4ed2e5e-39dd-41be-883e-347765ec7ab2",
   "metadata": {},
   "source": [
    "# [Assignment 05]"
   ]
  },
  {
   "cell_type": "markdown",
   "id": "3c6c17c3-03e8-4ea8-96c1-979653d305c9",
   "metadata": {},
   "source": [
    "## 1-1. 생일 느린 10명 출력"
   ]
  },
  {
   "cell_type": "code",
   "execution_count": 3,
   "id": "e7758930-3f99-45aa-9668-bca554b34a4a",
   "metadata": {},
   "outputs": [
    {
     "name": "stdout",
     "output_type": "stream",
     "text": [
      "생일이 늦은 순서:\n",
      "1. 홍서연 - 20241282\n",
      "2. 신수민 - 20051230\n",
      "3. 이서영 - 20051225\n",
      "4. 강민주 - 20051214\n",
      "5. 김민경 - 20051202\n",
      "6. 이서영 - 20051112\n",
      "7. 배시은 - 20051102\n",
      "8. 김여원 - 20051031\n",
      "9. 이서진 - 20051028\n",
      "10. 서홍빈 - 20051024\n"
     ]
    }
   ],
   "source": [
    "import pandas as pd\n",
    "import heapq\n",
    "\n",
    "file_path = \"birthday.csv\"\n",
    "\n",
    "try:\n",
    "    # CSV 파일 불러오기\n",
    "    df = pd.read_csv(file_path)\n",
    "\n",
    "    #생년월일이 NaN인 행 제거\n",
    "    df = df.dropna(subset=['생년월일8자리(예.20040101)'])\n",
    "\n",
    "   \n",
    "    birth_data = [\n",
    "        (int(row['생년월일8자리(예.20040101)']), row['이름'])\n",
    "        for _, row in df.iterrows()\n",
    "        if not pd.isna(row['이름'])\n",
    "    ]\n",
    "\n",
    "  \n",
    "    max_heap = [(-birthday, name) for birthday, name in birth_data]\n",
    "    heapq.heapify(max_heap)\n",
    "\n",
    "   \n",
    "    print(\"생일이 늦은 순서:\")\n",
    "    for i in range(10):\n",
    "        if max_heap:\n",
    "            birthday, name = heapq.heappop(max_heap)\n",
    "            print(f\"{i+1}. {name} - {-birthday}\")\n",
    "        else:\n",
    "            break\n",
    "\n",
    "except FileNotFoundError:\n",
    "    print(f\"[오류] 파일이 존재하지 않습니다: {file_path}\")\n",
    "except Exception as e:\n",
    "    print(f\"[예외 발생] {e}\")\n"
   ]
  },
  {
   "cell_type": "markdown",
   "id": "f1f99dd4-36cf-4e3d-ba64-bb0e87a4ae95",
   "metadata": {},
   "source": [
    "## 1-2. 조원 이름, 생년월일 출력"
   ]
  },
  {
   "cell_type": "code",
   "execution_count": 7,
   "id": "c08f84ec-9fcb-4b6f-9142-0b1e50f0819d",
   "metadata": {},
   "outputs": [
    {
     "name": "stdout",
     "output_type": "stream",
     "text": [
      "같은 조 친구 (이름 + 생일):\n",
      "1. 김민경 - 20051202\n",
      "2. 김보민 - 20020911\n",
      "3. 김연진 - 20010826\n",
      "4. 노은서 - 20050316\n",
      "5. 박서연 - 20040428\n",
      "6. 박성연 - 20040514\n",
      "7. 변수연 - 20040802\n",
      "8. 오세은 - 20050328\n",
      "9. 정윤서 - 20030802\n"
     ]
    }
   ],
   "source": [
    "import pandas as pd\n",
    "\n",
    "same_group_data = {\n",
    "    \"노은서\": \"20050316\",\n",
    "    \"변수연\": \"20040802\",\n",
    "    \"김보민\": \"20020911\",\n",
    "    \"김민경\": \"20051202\",\n",
    "    \"김연진\": \"20010826\",\n",
    "    \"정윤서\": \"20030802\",\n",
    "    \"박성연\": \"20040514\",\n",
    "    \"홍서연\": \"20041282\",  # 생일 이상\n",
    "    \"박서연\": \"20040428\",\n",
    "    \"오세은\": \"20050328\"\n",
    "}\n",
    "\n",
    "file_path = \"birthday.csv\"  # 같은 폴더에 있는 파일로 가정\n",
    "\n",
    "try:\n",
    "    df = pd.read_csv(file_path)\n",
    "    df = df.dropna(subset=[\"생년월일8자리(예.20040101)\"])\n",
    "\n",
    "    # CDLL 노드 클래스 정의\n",
    "    class Node:\n",
    "        def __init__(self, name, birthday):\n",
    "            self.name = name\n",
    "            self.birthday = birthday\n",
    "            self.prev = None\n",
    "            self.next = None\n",
    "\n",
    "    # 원형 이중 연결 리스트 정의\n",
    "    class CircularDoublyLinkedList:\n",
    "        def __init__(self):\n",
    "            self.head = None\n",
    "\n",
    "        def insert(self, name, birthday):\n",
    "            new_node = Node(name, birthday)\n",
    "            if not self.head:\n",
    "                self.head = new_node\n",
    "                new_node.next = new_node.prev = new_node\n",
    "            else:\n",
    "                tail = self.head.prev\n",
    "                tail.next = new_node\n",
    "                new_node.prev = tail\n",
    "                new_node.next = self.head\n",
    "                self.head.prev = new_node\n",
    "\n",
    "        def traverse_and_filter(self, target_data):\n",
    "            results = []\n",
    "            if not self.head:\n",
    "                return results\n",
    "            current = self.head\n",
    "            while True:\n",
    "                if current.name in target_data and target_data[current.name] == current.birthday:\n",
    "                    results.append((current.name, current.birthday))\n",
    "                current = current.next\n",
    "                if current == self.head:\n",
    "                    break\n",
    "            return results\n",
    "\n",
    "    cdll = CircularDoublyLinkedList()\n",
    "    for _, row in df.iterrows():\n",
    "        name = row['이름']\n",
    "        birthday_raw = row['생년월일8자리(예.20040101)']\n",
    "        if pd.notna(birthday_raw):\n",
    "            birthday = str(int(birthday_raw))\n",
    "            cdll.insert(name, birthday)\n",
    "\n",
    "   \n",
    "    print(\"같은 조 친구 (이름 + 생일):\")\n",
    "    for i, (name, birthday) in enumerate(cdll.traverse_and_filter(same_group_data), start=1):\n",
    "        print(f\"{i}. {name} - {birthday}\")\n",
    "\n",
    "except FileNotFoundError:\n",
    "    print(f\"[오류] 파일이 존재하지 않습니다: {file_path}\")\n",
    "except Exception as e:\n",
    "    print(f\"[예외 발생] {e}\")\n"
   ]
  },
  {
   "cell_type": "markdown",
   "id": "892863d0-131d-4068-b9cf-0c89ff717b99",
   "metadata": {},
   "source": [
    "## 2. Leet code 703번"
   ]
  },
  {
   "cell_type": "code",
   "execution_count": null,
   "id": "3aa61caf-910c-4c78-b70a-34255d56b5d2",
   "metadata": {},
   "outputs": [],
   "source": [
    "class KthLargest {\n",
    "public:\n",
    "    vector <int> V;\n",
    "    int nkth;\n",
    "\n",
    "    KthLargest(int k, vector<int>& nums) {\n",
    "        nkth = k;\n",
    "        sort(nums.begin(), nums.end());\n",
    "        for (int i = 0; i < nums.size(); i++)\n",
    "        {\n",
    "            V.push_back(nums[i]);\n",
    "        }\n",
    "    }\n",
    "    \n",
    "    int add(int val) {\n",
    "        int nStart = 0;\n",
    "        int nEnd = V.size() -1;\n",
    "        int nMid = 0;\n",
    "\n",
    "        if (V.size() == 0)\n",
    "        {\n",
    "            V.push_back(val);\n",
    "            return V[V.size()-nkth];\n",
    "\n",
    "        }\n",
    "        while (nStart < nEnd)\n",
    "        {\n",
    "            nMid = (nStart + nEnd) / 2;\n",
    "\n",
    "            if (V[nMid] == val)\n",
    "            {\n",
    "                break;\n",
    "            }\n",
    "            else if (V[nMid] < val)\n",
    "            {\n",
    "                nStart = nMid + 1;\n",
    "                nMid = (nStart + nEnd)/2;\n",
    "\n",
    "            }\n",
    "            else\n",
    "            {\n",
    "                nEnd = nMid +1;\n",
    "                nMid = (nStart + nEnd)/2;\n",
    "            }\n",
    "        }\n",
    "\n",
    "        if (V[nMid] <= val)\n",
    "        {\n",
    "            V.insert(V.begin() +nMid+1, val);\n",
    "\n",
    "        }\n",
    "        else\n",
    "        {\n",
    "            V.insert(V.begin() + nMid,val);\n",
    "        }\n",
    "        return V[V.size() - (nkth)];\n",
    "    }\n",
    "};\n",
    "\n",
    "/**\n",
    " * Your KthLargest object will be instantiated and called as such:\n",
    " * KthLargest* obj = new KthLargest(k, nums);\n",
    " * int param_1 = obj->add(val);\n",
    " */"
   ]
  },
  {
   "cell_type": "markdown",
   "id": "242feeac-6777-4586-bd3e-6f126a00782b",
   "metadata": {},
   "source": [
    "Time Limit Exceeded\n",
    "Last Executed Input\n",
    "Open Testcase\n",
    "[\"KthLargest\",\"add\",\"add\",\"add\",\"add\",\"add\"]\n",
    "[[3,[4,5,8,2]],[3],[5],[10],[9],[4]]"
   ]
  },
  {
   "cell_type": "markdown",
   "id": "8197ccd3-301a-42e5-850c-4685dad7f81b",
   "metadata": {},
   "source": [
    "## 3. 교재 8장 힙 연습문제 전부"
   ]
  },
  {
   "cell_type": "markdown",
   "id": "02973c19-7253-4245-95a0-3bf67a535381",
   "metadata": {},
   "source": [
    "### 1번"
   ]
  },
  {
   "cell_type": "markdown",
   "id": "c5a8467e-2149-4228-8561-2c7b9a56d6a7",
   "metadata": {},
   "source": [
    "경우에 따라 상이하다. 일반적으로는 최대힙의 정의에 의하여 부모노드는 항상 자식노드보다 크거나 같고, 작을 수는 없기 때문에 더 얕은 곳에 있는 원소가 더 깊은 곳에 있는 원소보다 항상 크거나 같으므로 더 작은 값을 가질 수는 없다. 그러나 그것은 같은 서브트리 내에서는 항상 일관되나, 서브트리가 다를 경우는 깊이가 더 깊음에도 깊이가 얕은 값보다 값이 더 클 수도 있다. 다음은 하나의 예시이다.\n",
    "\n",
    "       A[0] 100\n",
    "       A[1] 7               A[2] 98\n",
    "       A[3]4, A[4] 3        A[5]  97\n",
    "\n",
    "이 경우, 각각의 서브트리 내에서는 부모노드가 자식노드보다 크거나 같다는 힙의 2번째 조건을 만족하지만,\n",
    "서브트리가 다르므로 깊이가 더 깊은 A[5]의 값이 깊이가 얕은 A[1]보다 큰 값을 갖는다.\n",
    "그러므로 임의의 최대힙에 대하여 깊이가 깊은 노드는 깊이가 얕은 노드의 값보다 항상 작거나 같다라는 건 잘못된 설명이며, '같은 서브트리 안에서' 라는 조건이 붙게되면 깊이가 깊은 노드는 얕은노드보다 항상 작거나 같다."
   ]
  },
  {
   "cell_type": "markdown",
   "id": "fa170f11-ab0f-41c9-a972-4bc34c3386ce",
   "metadata": {},
   "source": [
    "### 2번"
   ]
  },
  {
   "cell_type": "markdown",
   "id": "b8694648-e580-4eaa-89fc-8d1d480b6d6f",
   "metadata": {},
   "source": [
    "그렇지 않다. 힙의 성질을 따르면, 부모노드는 자식노드보다 크거나 같기만 하면 된다.\n",
    "그러므로 리프 노드가 리프노드 각각의 부모노드보다 작거나 같기만 하면 될뿐, 리프노드끼리 비교하여 가장 작은 값을 말단 A[n-1]로 옮기고자하는 과정을 거치진 않기 때문에 리프노드끼리의 값을 비교할 필요는 없으며 그러므로 말단 원소가 가장 작을 것이라는 보장은 없다. 그럴수도, 아닐 수도 있다는 것이다.\n",
    "\n",
    "       A[0] 100\n",
    "       A[1] 7               A[2] 98\n",
    "       A[3]4, A[4] 3        A[5]  97\n",
    "       -> 마지막 원소 A[5]가 가장 작은 값을 갖지 않는다.\n",
    "\n",
    "       A[0] 100\n",
    "       A[1] 7               A[2] 98\n",
    "       A[3]4, A[4] 3        A[5]  1\n",
    "       -> 마지막 원소가 가장 작은 값을 갖는다."
   ]
  },
  {
   "cell_type": "markdown",
   "id": "12882f7d-b84e-43dc-8480-1417d120c574",
   "metadata": {},
   "source": [
    "### 3번\n"
   ]
  },
  {
   "cell_type": "markdown",
   "id": "71361711-af08-466d-8aa5-fb1c3859bf05",
   "metadata": {},
   "source": [
    "루트 노드에서부터 시작하여, 부모노드와 자식노드를 비교해 자식노드가 더 크다면 부모노드와 자식노드의 위치를 바꾸어주는 것이 스며내리기이다. 자식노드가 2개인 경우, 둘중 더 큰 원소와 비교를 하고 자식노드가 1개인 경우 그 노드와 부모노드의 대소를 비교한다.\n",
    "코드로 작성하면, buildHeap()은 다음과 같이 작동된다.\n",
    "for i in range( (n-2)//2, -1,-1):\n",
    "    self.__PercolateDown(i)\n",
    "따라서, 전체노드 n개 중에 percolateDown연산이 되는 것은 0번째 노드부터 n-2//2번째 노드까지이다.\n",
    "그 이후 번째 노드는 모두 자식이 없는 리프 노드로 연산이 호출되지 않는다.\n",
    "그러므로 스며내리기를 할지 알아보지 않고 그냥 넘어가는 원소의 수는 n-(n-2//2)개 이며 올림기호를 사용해 ⌈n/2⌉ 다음과 같이 나타낼 수도 있다."
   ]
  },
  {
   "cell_type": "markdown",
   "id": "71bd2d89-579d-427c-8fc4-32cda2c3c39d",
   "metadata": {},
   "source": [
    "### 4번"
   ]
  },
  {
   "cell_type": "markdown",
   "id": "c90497a0-f832-4229-afff-13fc23475c88",
   "metadata": {},
   "source": [
    "최선의 경우는 현재노드가 이미 최대힙에 맞게 정렬되어, 현재 노드들이 이미 자식노드보다 큰 상태이다.\n",
    "그렇다면 1번 비교 후 바로 종료하면 되므로 시간복잡도는 Θ(1)이다.\n",
    "최악의 경우 자식노드가 리프노드일 때까지 비교를 해야한다.\n",
    "루트노드의 깊이가 0일때, 깊이는 logn이다.\n",
    "그러므로 최대로 내려갈 수 있는 깊이는 logn이고 Θ(log n)이다."
   ]
  },
  {
   "cell_type": "markdown",
   "id": "0144c13b-316f-4068-9892-2282ddeaa37f",
   "metadata": {},
   "source": [
    "### 5번"
   ]
  },
  {
   "cell_type": "markdown",
   "id": "268f882f-f3a8-4811-a5ae-77cc15ef9756",
   "metadata": {},
   "source": [
    "우선순위 큐(힙)에서는 무조건 우선순위가 가장 큰 원소를 삭제 대상으로 하며, 이는 우선순위 큐를 구현하기 위한 자료구조로 가장 높은 우선순위의 작업을 처리하기 위해 루트를 삭제 대상으로 삼기 때문이다.\n",
    "따라서 최대힙에서는 루트노드가 우선순위가 가장 높으므로 루트노드를 지운다.\n",
    "하지만 이 경우 루트노드의 자식노드 A[1]과 A[2]의 연결이 끊기면서 2개의 서브트리로 나뉘어버리기 때문에, 말단 원소인 A[n-1]을 A[0] 위치에 넣어준 뒤, perlocateDown()을 이용해 루트노드가 되어버린 말단노드를 스며내리기 한다. \n",
    "반면에, 힙의 맨 마지막 원소를 삭제하는 작업은 A[n-1]을 pop하면 되고, 리프 노드이므로 삭제되었다고 해서 구조적 이상을 일으키지 않으므로 추가적으로 해주어야 할 작업이 없다. 기존 배운 리스트의 맨 끝 원소를 pop하는 것과 다름이 없으므로 맨 마지막 원소를 삭제하는 작업을 하는 것은 간단한 일이긴하나, 우선순위 큐를 목적으로한 자료구조 힙에서는 '작업의 우선순위에 따라 처리 순서를 보장' 해야하므로 적절하지 못한 동작이다."
   ]
  },
  {
   "cell_type": "markdown",
   "id": "baca1a82-da57-48fa-a7da-365af3104dfc",
   "metadata": {},
   "source": [
    "### 6번"
   ]
  },
  {
   "cell_type": "markdown",
   "id": "0082ec72-c1a0-482c-aa0d-61f593ce9cdd",
   "metadata": {},
   "source": [
    "buildHeap()이 맨 끝노드의 부모노드인 A[n-2//2]부터 0번째에 있는 루트노드까지 스며내리기를 했다면, 반대로 위쪽에서부터 스며오르기를 하는 작업에 대해 살펴보자.\n",
    "buildHeap()의 수행시간은 리프노드를 제외한 부모 노드부터 시작해 스며내리기 여부를 판단하므로, 연산이 호출되는건 0번째부터 n-2//2 번째까지 이므로 올림(n/2)번 호출된다.\n",
    "각 호출에서 수행되는 연산량을 살피면, 루트노드에서는 최대 logn번 비교하는 반면, 말단 근처에서는 비교가 거의 없다. 연산량을 누적하면, 버림(n/2)-1 ~ 0 까지의 호출동안의 시간복잡도는\n",
    "T(n)= ∑ O(log(n/i))이므로 O(n)이다.\n",
    "반면 부모노드가 아닌 첫번째 노드~마지막 노드 ( (n//2) -1 ~ n-1 번째)를 스며오르기 연산을 수행하면, 총 올림(n/2)개의 리프노드가 있으므로 𝑇(𝑛)=∑ 𝑂(log 𝑖)이고, Θ(n log n)이다.\n",
    "시간복잡도를 통해 후자가 더 비효율적이라는 사실을 알 수 있으며 선자는 선형시간으로 나타낼 수 있다."
   ]
  },
  {
   "cell_type": "markdown",
   "id": "cd01c2f9-e847-4bbe-8ba7-a8107bb33613",
   "metadata": {},
   "source": [
    "### 7번"
   ]
  },
  {
   "cell_type": "markdown",
   "id": "d38a82e5-c601-4d3c-9fc6-25898c714c13",
   "metadata": {},
   "source": [
    "일단 'O(logn) 시간에 이를 반영한다'라는 키워드를 보고 루트 높이 logn의 활용여부를 우선적으로 고려해보았다.\n",
    "임의의 노드 값이 증가했다면 부모노드보다 자식노드의 우선순위가 높아졌을 가능성이 있다.\n",
    "힙의 성질에 위배되지않게, 부모와 비교하여 필요시 위로 올리는 swap과정을 거쳐야 한다.'이러한 과정을 조건이 만족될 때까지 반복하면되는데, 루트에 도달할 때까지 갈 수도 있다. 따라서 최대 log n단계면 루트까지 도달하므로 시간안에 수선이 가능하다."
   ]
  }
 ],
 "metadata": {
  "kernelspec": {
   "display_name": "Python [conda env:base] *",
   "language": "python",
   "name": "conda-base-py"
  },
  "language_info": {
   "codemirror_mode": {
    "name": "ipython",
    "version": 3
   },
   "file_extension": ".py",
   "mimetype": "text/x-python",
   "name": "python",
   "nbconvert_exporter": "python",
   "pygments_lexer": "ipython3",
   "version": "3.12.7"
  }
 },
 "nbformat": 4,
 "nbformat_minor": 5
}
